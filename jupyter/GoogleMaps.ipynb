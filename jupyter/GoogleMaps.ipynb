{
 "cells": [
  {
   "cell_type": "code",
   "execution_count": 1,
   "metadata": {
    "collapsed": true
   },
   "outputs": [],
   "source": [
    "import time\n",
    "import googlemaps\n",
    "from datetime import datetime\n",
    "\n",
    "import numpy as np\n",
    "import pandas as pd"
   ]
  },
  {
   "cell_type": "code",
   "execution_count": 2,
   "metadata": {
    "collapsed": true
   },
   "outputs": [],
   "source": [
    "links = pd.read_csv('../data/LinkOriginDestination.csv', sep = ';', names = ['LinkRef', 'FromLat', 'FromLng', 'ToLat', 'ToLng'])"
   ]
  },
  {
   "cell_type": "code",
   "execution_count": 8,
   "metadata": {
    "collapsed": true
   },
   "outputs": [],
   "source": [
    "api_key = ''\n",
    "with open('../api.key', 'r') as file:\n",
    "    api_key = file.readline()\n",
    "    \n",
    "gmaps = googlemaps.Client(key=api_key)"
   ]
  },
  {
   "cell_type": "code",
   "execution_count": 11,
   "metadata": {},
   "outputs": [
    {
     "name": "stdout",
     "output_type": "stream",
     "text": [
      "2017-10-09T11:05:22.166368,1277:1102,233,49\n",
      "2017-10-09T11:05:22.874408,10427:1183,341,70\n",
      "2017-10-09T11:05:23.574448,2675:1188,481,54\n",
      "2017-10-09T11:05:24.272488,1188:1190,632,109\n",
      "2017-10-09T11:05:24.930526,1190:1192,1235,187\n",
      "2017-10-09T11:05:25.600564,1192:1193,338,29\n",
      "2017-10-09T11:05:26.253602,29848:1254,125,102\n",
      "2017-10-09T11:05:26.884638,1254:1255,311,85\n",
      "2017-10-09T11:05:27.563677,10116:1258,274,47\n",
      "2017-10-09T11:05:28.281718,1258:1260,388,85\n",
      "2017-10-09T11:05:28.930755,1260:1261,262,49\n",
      "2017-10-09T11:05:29.666797,1261:1262,274,57\n",
      "2017-10-09T11:05:30.316834,1990:1268,278,46\n",
      "2017-10-09T11:05:30.972872,1268:1269,371,60\n",
      "2017-10-09T11:05:31.613908,1269:1270,477,71\n",
      "2017-10-09T11:05:32.280946,1270:1272,314,59\n",
      "2017-10-09T11:05:32.943984,1272:1273,388,69\n",
      "2017-10-09T11:05:33.659025,1273:1274,322,66\n",
      "2017-10-09T11:05:34.301062,1274:1275,317,35\n",
      "2017-10-09T11:05:34.928098,1275:1276,521,107\n",
      "2017-10-09T11:05:35.498130,1276:1277,354,44\n",
      "2017-10-09T11:05:36.175169,10017:1989,409,83\n",
      "2017-10-09T11:05:36.791204,1989:1990,504,107\n",
      "2017-10-09T11:05:37.501245,1193:2666,1250,117\n",
      "2017-10-09T11:05:38.149282,1183:2673,435,50\n",
      "2017-10-09T11:05:38.756317,2673:2675,680,62\n",
      "2017-10-09T11:05:39.437356,7035:2757,216,19\n",
      "2017-10-09T11:05:40.017389,1262:7035,987,178\n",
      "2017-10-09T11:05:40.579421,2757:10017,729,160\n",
      "2017-10-09T11:05:41.224458,1255:10115,252,54\n",
      "2017-10-09T11:05:41.792490,10115:10116,234,44\n",
      "2017-10-09T11:05:42.353522,1102:10427,318,61\n"
     ]
    }
   ],
   "source": [
    "for index, row in links.iterrows():\n",
    "    link_ref = row['LinkRef']\n",
    "    origins = str(row['FromLat']) + ',' + str(row['FromLng'])\n",
    "    destinations = str(row['ToLat']) + ',' + str(row['ToLng'])\n",
    "\n",
    "    result = gmaps.distance_matrix(\n",
    "        origins = origins,\n",
    "        destinations = destinations,\n",
    "        departure_time = datetime.now(),\n",
    "        mode = 'driving',\n",
    "        traffic_model = 'best_guess')\n",
    "\n",
    "    if result['status'] == 'OK':\n",
    "        cell = result['rows'][0]['elements'][0]\n",
    "        print(datetime.now().isoformat() + ',' + link_ref + ',' + str(cell['distance']['value']) + ',' + str(cell['duration_in_traffic']['value']))\n",
    "    else:\n",
    "        print(datetime.now().isoformat() + ',' + link_ref + ',' + result['status'])\n",
    "\n",
    "    time.sleep(0.5)"
   ]
  },
  {
   "cell_type": "code",
   "execution_count": null,
   "metadata": {
    "collapsed": true
   },
   "outputs": [],
   "source": []
  }
 ],
 "metadata": {
  "kernelspec": {
   "display_name": "Python 3",
   "language": "python",
   "name": "python3"
  },
  "language_info": {
   "codemirror_mode": {
    "name": "ipython",
    "version": 3
   },
   "file_extension": ".py",
   "mimetype": "text/x-python",
   "name": "python",
   "nbconvert_exporter": "python",
   "pygments_lexer": "ipython3",
   "version": "3.6.1"
  }
 },
 "nbformat": 4,
 "nbformat_minor": 2
}
