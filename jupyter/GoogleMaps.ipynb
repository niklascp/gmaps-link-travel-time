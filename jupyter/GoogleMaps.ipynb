{
 "cells": [
  {
   "cell_type": "code",
   "execution_count": 2,
   "metadata": {
    "collapsed": true
   },
   "outputs": [],
   "source": [
    "import time\n",
    "import googlemaps\n",
    "from datetime import datetime\n",
    "\n",
    "import numpy as np\n",
    "import pandas as pd"
   ]
  },
  {
   "cell_type": "code",
   "execution_count": 4,
   "metadata": {},
   "outputs": [],
   "source": [
    "links = pd.read_csv('../data/LinkOriginDestination.csv', sep = ';', names = ['LinkRef', 'FromLat', 'FromLng', 'ToLat', 'ToLng'])"
   ]
  },
  {
   "cell_type": "code",
   "execution_count": 5,
   "metadata": {},
   "outputs": [],
   "source": [
    "api_key = ''\n",
    "with open('../api.key', 'r') as file:\n",
    "    api_key = file.readline()\n",
    "    \n",
    "gmaps = googlemaps.Client(key=api_key)"
   ]
  },
  {
   "cell_type": "code",
   "execution_count": 7,
   "metadata": {},
   "outputs": [
    {
     "name": "stdout",
     "output_type": "stream",
     "text": [
      "2017-10-06T14:03:54.487350,1277:1102233,54\n",
      "\n",
      "2017-10-06T14:03:55.049382,10427:1183341,75\n",
      "\n",
      "2017-10-06T14:03:55.654417,2675:1188481,56\n",
      "\n",
      "2017-10-06T14:03:56.216449,1188:1190632,116\n",
      "\n",
      "2017-10-06T14:03:56.809483,1190:11921235,205\n",
      "\n",
      "2017-10-06T14:03:57.370515,1192:1193338,33\n",
      "\n",
      "2017-10-06T14:03:57.925547,29848:1254125,103\n",
      "\n",
      "2017-10-06T14:03:58.481578,1254:1255311,86\n",
      "\n",
      "2017-10-06T14:03:59.045611,10116:1258274,53\n",
      "\n",
      "2017-10-06T14:03:59.610643,1258:1260388,86\n",
      "\n",
      "2017-10-06T14:04:00.171675,1260:1261262,53\n",
      "\n",
      "2017-10-06T14:04:00.726707,1261:1262274,60\n",
      "\n",
      "2017-10-06T14:04:01.281738,1990:1268278,51\n",
      "\n",
      "2017-10-06T14:04:01.832770,1268:1269371,70\n",
      "\n",
      "2017-10-06T14:04:02.395802,1269:1270477,81\n",
      "\n",
      "2017-10-06T14:04:02.947834,1270:1272314,50\n",
      "\n",
      "2017-10-06T14:04:03.877887,1272:1273388,67\n",
      "\n",
      "2017-10-06T14:04:04.480921,1273:1274322,67\n",
      "\n",
      "2017-10-06T14:04:05.037953,1274:1275317,40\n",
      "\n",
      "2017-10-06T14:04:05.597985,1275:1276521,85\n",
      "\n",
      "2017-10-06T14:04:06.168018,1276:1277354,50\n",
      "\n",
      "2017-10-06T14:04:06.727050,10017:1989409,88\n",
      "\n",
      "2017-10-06T14:04:07.281082,1989:1990504,93\n",
      "\n",
      "2017-10-06T14:04:07.844114,1193:26661250,123\n",
      "\n",
      "2017-10-06T14:04:08.400146,1183:2673435,60\n",
      "\n",
      "2017-10-06T14:04:08.957177,2673:2675680,69\n",
      "\n",
      "2017-10-06T14:04:09.510209,7035:2757216,28\n",
      "\n",
      "2017-10-06T14:04:10.103243,1262:7035987,180\n",
      "\n",
      "2017-10-06T14:04:10.664275,2757:10017729,140\n",
      "\n",
      "2017-10-06T14:04:11.221307,1255:10115252,54\n",
      "\n",
      "2017-10-06T14:04:11.782339,10115:10116234,41\n",
      "\n",
      "2017-10-06T14:04:12.338371,1102:10427318,67\n",
      "\n"
     ]
    }
   ],
   "source": [
    "for index, row in links.iterrows():\n",
    "    link_ref = row['LinkRef']\n",
    "    origins = str(row['FromLat']) + ',' + str(row['FromLng'])\n",
    "    destinations = str(row['ToLat']) + ',' + str(row['ToLng'])\n",
    "\n",
    "    result = gmaps.distance_matrix(origins = origins, destinations = destinations)\n",
    "\n",
    "    if result['status'] == 'OK':\n",
    "        cell = result['rows'][0]['elements'][0]\n",
    "        print(datetime.now().isoformat() + ',' + link_ref + str(cell['distance']['value']) + ',' + str(cell['duration']['value']) + '\\n')\n",
    "    else:\n",
    "        print(datetime.now().isoformat() + ',' + link_ref + result['status'])\n",
    "\n",
    "    time.sleep(0.5)"
   ]
  },
  {
   "cell_type": "code",
   "execution_count": null,
   "metadata": {
    "collapsed": true
   },
   "outputs": [],
   "source": []
  }
 ],
 "metadata": {
  "kernelspec": {
   "display_name": "Python 3",
   "language": "python",
   "name": "python3"
  },
  "language_info": {
   "codemirror_mode": {
    "name": "ipython",
    "version": 3
   },
   "file_extension": ".py",
   "mimetype": "text/x-python",
   "name": "python",
   "nbconvert_exporter": "python",
   "pygments_lexer": "ipython3",
   "version": "3.6.1"
  }
 },
 "nbformat": 4,
 "nbformat_minor": 2
}
